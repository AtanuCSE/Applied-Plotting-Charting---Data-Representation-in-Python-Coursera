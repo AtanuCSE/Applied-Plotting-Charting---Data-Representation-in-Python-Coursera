{
  "nbformat": 4,
  "nbformat_minor": 0,
  "metadata": {
    "colab": {
      "name": "01_Matplotlib_Basics.ipynb",
      "provenance": [],
      "collapsed_sections": [],
      "toc_visible": true
    },
    "kernelspec": {
      "name": "python3",
      "display_name": "Python 3"
    }
  },
  "cells": [
    {
      "cell_type": "markdown",
      "metadata": {
        "id": "rbSh6TbMg8V0",
        "colab_type": "text"
      },
      "source": [
        "# **Matplotlib Library**\n",
        "___\n",
        "___"
      ]
    },
    {
      "cell_type": "markdown",
      "metadata": {
        "id": "RAfkx0SZhI_R",
        "colab_type": "text"
      },
      "source": [
        "**Topic**\n",
        "\n",
        "* Dot Plot\n",
        "  - Single Point\n",
        "  - Multiple Point\n",
        "* Modifying Axis Length\n",
        "* Identify All Child Objects under Axis"
      ]
    },
    {
      "cell_type": "code",
      "metadata": {
        "id": "rRlSYs1Jg6E9",
        "colab_type": "code",
        "colab": {
          "base_uri": "https://localhost:8080/",
          "height": 37
        },
        "outputId": "0d1eb992-01ef-4642-a95b-20a0607540f2"
      },
      "source": [
        "%matplotlib inline\n",
        "import matplotlib as mpl\n",
        "mpl.get_backend()"
      ],
      "execution_count": 15,
      "outputs": [
        {
          "output_type": "execute_result",
          "data": {
            "application/vnd.google.colaboratory.intrinsic+json": {
              "type": "string"
            },
            "text/plain": [
              "'module://ipykernel.pylab.backend_inline'"
            ]
          },
          "metadata": {
            "tags": []
          },
          "execution_count": 15
        }
      ]
    },
    {
      "cell_type": "code",
      "metadata": {
        "id": "lC040o1LhVhy",
        "colab_type": "code",
        "colab": {}
      },
      "source": [
        "import matplotlib.pyplot as plt"
      ],
      "execution_count": 16,
      "outputs": []
    },
    {
      "cell_type": "markdown",
      "metadata": {
        "id": "nTXrDLi2jfdh",
        "colab_type": "text"
      },
      "source": [
        "# **Dot Plot(Single Point)**"
      ]
    },
    {
      "cell_type": "code",
      "metadata": {
        "id": "fRW0NnxYhdoW",
        "colab_type": "code",
        "colab": {
          "base_uri": "https://localhost:8080/",
          "height": 282
        },
        "outputId": "3485a96e-f5a9-49e7-cd30-1e78e818a4ac"
      },
      "source": [
        "plt.plot(3, 2, \"*\")"
      ],
      "execution_count": 17,
      "outputs": [
        {
          "output_type": "execute_result",
          "data": {
            "text/plain": [
              "[<matplotlib.lines.Line2D at 0x7f30efd041d0>]"
            ]
          },
          "metadata": {
            "tags": []
          },
          "execution_count": 17
        },
        {
          "output_type": "display_data",
          "data": {
            "image/png": "[encoded data removed]",
            "text/plain": [
              "<Figure size 432x288 with 1 Axes>"
            ]
          },
          "metadata": {
            "tags": [],
            "needs_background": "light"
          }
        }
      ]
    },
    {
      "cell_type": "code",
      "metadata": {
        "id": "EU0n1XtQhfdx",
        "colab_type": "code",
        "colab": {}
      },
      "source": [
        "from matplotlib.backends.backend_agg import FigureCanvasAgg\n",
        "from matplotlib.figure import Figure\\\n",
        "\n",
        "fig = Figure()\n",
        "canvas = FigureCanvasAgg(fig)\n",
        "ax = fig.add_subplot(111)\n",
        "ax.plot(3, 2, '.')\n",
        "canvas.print_png('test.png')"
      ],
      "execution_count": 18,
      "outputs": []
    },
    {
      "cell_type": "markdown",
      "metadata": {
        "id": "j3UVr3hikcIz",
        "colab_type": "text"
      },
      "source": [
        "# **Modifying Axis Length**"
      ]
    },
    {
      "cell_type": "code",
      "metadata": {
        "id": "vD9jpwLikUxV",
        "colab_type": "code",
        "colab": {
          "base_uri": "https://localhost:8080/",
          "height": 269
        },
        "outputId": "123b99eb-81d2-4902-a502-8156482d1343"
      },
      "source": [
        "plt.figure()\n",
        "plt.plot(3, 2, 'o')\n",
        "\n",
        "# get the current axes\n",
        "ax = plt.gca()\n",
        "# Set axis properties [xmin, xmax, ymin, ymax]\n",
        "ax.axis([0,6,0,10])\n",
        "plt.show()"
      ],
      "execution_count": 19,
      "outputs": [
        {
          "output_type": "display_data",
          "data": {
            "image/png": "[encoded data removed]",
            "text/plain": [
              "<Figure size 432x288 with 1 Axes>"
            ]
          },
          "metadata": {
            "tags": [],
            "needs_background": "light"
          }
        }
      ]
    },
    {
      "cell_type": "markdown",
      "metadata": {
        "id": "sBhN5805n-kx",
        "colab_type": "text"
      },
      "source": [
        "# **Dot Plot (Multiple Points)**"
      ]
    },
    {
      "cell_type": "code",
      "metadata": {
        "id": "Kcf9cylRn2HF",
        "colab_type": "code",
        "colab": {
          "base_uri": "https://localhost:8080/",
          "height": 282
        },
        "outputId": "52652e7e-9ad7-440f-f7d0-e25d804e8272"
      },
      "source": [
        "plt.figure()\n",
        "\n",
        "\n",
        "plt.plot(1.5, 1.5, 'o')\n",
        "plt.plot(2, 2, '+')\n",
        "plt.plot(2.5, 2.5, '*')"
      ],
      "execution_count": 20,
      "outputs": [
        {
          "output_type": "execute_result",
          "data": {
            "text/plain": [
              "[<matplotlib.lines.Line2D at 0x7f30efbb95c0>]"
            ]
          },
          "metadata": {
            "tags": []
          },
          "execution_count": 20
        },
        {
          "output_type": "display_data",
          "data": {
            "image/png": "[encoded data removed]",
            "text/plain": [
              "<Figure size 432x288 with 1 Axes>"
            ]
          },
          "metadata": {
            "tags": [],
            "needs_background": "light"
          }
        }
      ]
    },
    {
      "cell_type": "markdown",
      "metadata": {
        "id": "mGFFMd0ioSyo",
        "colab_type": "text"
      },
      "source": [
        "# **Identify All Child Objects under Axis**"
      ]
    },
    {
      "cell_type": "code",
      "metadata": {
        "id": "7xztmLO2oR6L",
        "colab_type": "code",
        "colab": {
          "base_uri": "https://localhost:8080/",
          "height": 439
        },
        "outputId": "6c1b9f67-2c86-4177-c471-f14d747e8a6f"
      },
      "source": [
        "# get current axes\n",
        "ax = plt.gca()\n",
        "# get all the child objects the axes contains\n",
        "ax.get_children()"
      ],
      "execution_count": 21,
      "outputs": [
        {
          "output_type": "execute_result",
          "data": {
            "text/plain": [
              "[<matplotlib.spines.Spine at 0x7f30efb6a5c0>,\n",
              " <matplotlib.spines.Spine at 0x7f30efb6a160>,\n",
              " <matplotlib.spines.Spine at 0x7f30efb6a470>,\n",
              " <matplotlib.spines.Spine at 0x7f30efb6a128>,\n",
              " <matplotlib.axis.XAxis at 0x7f30efb6a748>,\n",
              " <matplotlib.axis.YAxis at 0x7f30efbc72e8>,\n",
              " Text(0.5, 1.0, ''),\n",
              " Text(0.0, 1.0, ''),\n",
              " Text(1.0, 1.0, ''),\n",
              " <matplotlib.patches.Rectangle at 0x7f30efb7e748>]"
            ]
          },
          "metadata": {
            "tags": []
          },
          "execution_count": 21
        },
        {
          "output_type": "display_data",
          "data": {
            "image/png": "[encoded data removed]",
            "text/plain": [
              "<Figure size 432x288 with 1 Axes>"
            ]
          },
          "metadata": {
            "tags": [],
            "needs_background": "light"
          }
        }
      ]
    }
  ]
}